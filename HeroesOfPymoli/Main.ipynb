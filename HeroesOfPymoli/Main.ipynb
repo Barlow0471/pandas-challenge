{
 "cells": [
  {
   "cell_type": "code",
   "execution_count": 18,
   "id": "6250cb38",
   "metadata": {},
   "outputs": [
    {
     "data": {
      "text/html": [
       "<div>\n",
       "<style scoped>\n",
       "    .dataframe tbody tr th:only-of-type {\n",
       "        vertical-align: middle;\n",
       "    }\n",
       "\n",
       "    .dataframe tbody tr th {\n",
       "        vertical-align: top;\n",
       "    }\n",
       "\n",
       "    .dataframe thead th {\n",
       "        text-align: right;\n",
       "    }\n",
       "</style>\n",
       "<table border=\"1\" class=\"dataframe\">\n",
       "  <thead>\n",
       "    <tr style=\"text-align: right;\">\n",
       "      <th></th>\n",
       "      <th>Purchase ID</th>\n",
       "      <th>SN</th>\n",
       "      <th>Age</th>\n",
       "      <th>Gender</th>\n",
       "      <th>Item ID</th>\n",
       "      <th>Item Name</th>\n",
       "      <th>Price</th>\n",
       "    </tr>\n",
       "  </thead>\n",
       "  <tbody>\n",
       "    <tr>\n",
       "      <th>0</th>\n",
       "      <td>0</td>\n",
       "      <td>Lisim78</td>\n",
       "      <td>20</td>\n",
       "      <td>Male</td>\n",
       "      <td>108</td>\n",
       "      <td>Extraction, Quickblade Of Trembling Hands</td>\n",
       "      <td>3.53</td>\n",
       "    </tr>\n",
       "    <tr>\n",
       "      <th>1</th>\n",
       "      <td>1</td>\n",
       "      <td>Lisovynya38</td>\n",
       "      <td>40</td>\n",
       "      <td>Male</td>\n",
       "      <td>143</td>\n",
       "      <td>Frenzied Scimitar</td>\n",
       "      <td>1.56</td>\n",
       "    </tr>\n",
       "    <tr>\n",
       "      <th>2</th>\n",
       "      <td>2</td>\n",
       "      <td>Ithergue48</td>\n",
       "      <td>24</td>\n",
       "      <td>Male</td>\n",
       "      <td>92</td>\n",
       "      <td>Final Critic</td>\n",
       "      <td>4.88</td>\n",
       "    </tr>\n",
       "    <tr>\n",
       "      <th>3</th>\n",
       "      <td>3</td>\n",
       "      <td>Chamassasya86</td>\n",
       "      <td>24</td>\n",
       "      <td>Male</td>\n",
       "      <td>100</td>\n",
       "      <td>Blindscythe</td>\n",
       "      <td>3.27</td>\n",
       "    </tr>\n",
       "    <tr>\n",
       "      <th>4</th>\n",
       "      <td>4</td>\n",
       "      <td>Iskosia90</td>\n",
       "      <td>23</td>\n",
       "      <td>Male</td>\n",
       "      <td>131</td>\n",
       "      <td>Fury</td>\n",
       "      <td>1.44</td>\n",
       "    </tr>\n",
       "  </tbody>\n",
       "</table>\n",
       "</div>"
      ],
      "text/plain": [
       "   Purchase ID             SN  Age Gender  Item ID  \\\n",
       "0            0        Lisim78   20   Male      108   \n",
       "1            1    Lisovynya38   40   Male      143   \n",
       "2            2     Ithergue48   24   Male       92   \n",
       "3            3  Chamassasya86   24   Male      100   \n",
       "4            4      Iskosia90   23   Male      131   \n",
       "\n",
       "                                   Item Name  Price  \n",
       "0  Extraction, Quickblade Of Trembling Hands   3.53  \n",
       "1                          Frenzied Scimitar   1.56  \n",
       "2                               Final Critic   4.88  \n",
       "3                                Blindscythe   3.27  \n",
       "4                                       Fury   1.44  "
      ]
     },
     "execution_count": 18,
     "metadata": {},
     "output_type": "execute_result"
    }
   ],
   "source": [
    "# Dependencies and Setup\n",
    "import pandas as pd\n",
    "\n",
    "# File to Load (Remember to Change These)\n",
    "file_to_load = \"Resources/purchase_data.csv\"\n",
    "\n",
    "# Read Purchasing File and store into Pandas data frame\n",
    "purchase_data_df = pd.read_csv(file_to_load)\n",
    "purchase_data_df.head()"
   ]
  },
  {
   "cell_type": "code",
   "execution_count": 19,
   "id": "325ff6dc",
   "metadata": {},
   "outputs": [
    {
     "name": "stdout",
     "output_type": "stream",
     "text": [
      "Number of Total Players = 576\n"
     ]
    }
   ],
   "source": [
    "total_players = purchase_data_df[\"SN\"].nunique()\n",
    "print(f\"Number of Total Players = {total_players}\") "
   ]
  },
  {
   "cell_type": "code",
   "execution_count": 20,
   "id": "0ecc7143",
   "metadata": {},
   "outputs": [
    {
     "name": "stdout",
     "output_type": "stream",
     "text": [
      "Number of Unique Items = 179\n"
     ]
    }
   ],
   "source": [
    "unique_items = purchase_data_df[\"Item ID\"].nunique()\n",
    "print(f\"Number of Unique Items = {unique_items}\") "
   ]
  },
  {
   "cell_type": "code",
   "execution_count": 21,
   "id": "62ab7de9",
   "metadata": {},
   "outputs": [
    {
     "name": "stdout",
     "output_type": "stream",
     "text": [
      "Average Price = 3.050987179487176\n"
     ]
    }
   ],
   "source": [
    "average_price = purchase_data_df[\"Price\"].mean()\n",
    "print(f\"Average Price = {average_price}\") "
   ]
  },
  {
   "cell_type": "code",
   "execution_count": 22,
   "id": "87fc9d39",
   "metadata": {},
   "outputs": [],
   "source": [
    "number_of_purchases = purchase_data_df[\"Purchase ID\"].nunique()"
   ]
  },
  {
   "cell_type": "code",
   "execution_count": 23,
   "id": "75eea5d3",
   "metadata": {},
   "outputs": [],
   "source": [
    "total_revenue = purchase_data_df[\"Price\"].sum()"
   ]
  },
  {
   "cell_type": "code",
   "execution_count": 24,
   "id": "73748bde",
   "metadata": {},
   "outputs": [
    {
     "data": {
      "text/html": [
       "<div>\n",
       "<style scoped>\n",
       "    .dataframe tbody tr th:only-of-type {\n",
       "        vertical-align: middle;\n",
       "    }\n",
       "\n",
       "    .dataframe tbody tr th {\n",
       "        vertical-align: top;\n",
       "    }\n",
       "\n",
       "    .dataframe thead th {\n",
       "        text-align: right;\n",
       "    }\n",
       "</style>\n",
       "<table border=\"1\" class=\"dataframe\">\n",
       "  <thead>\n",
       "    <tr style=\"text-align: right;\">\n",
       "      <th></th>\n",
       "      <th>Total Players</th>\n",
       "      <th>Unique Items</th>\n",
       "      <th>Average Price</th>\n",
       "      <th>Number of Purchases</th>\n",
       "      <th>Total Revenue</th>\n",
       "    </tr>\n",
       "  </thead>\n",
       "  <tbody>\n",
       "    <tr>\n",
       "      <th>0</th>\n",
       "      <td>576</td>\n",
       "      <td>179</td>\n",
       "      <td>$3.05</td>\n",
       "      <td>780</td>\n",
       "      <td>$2379.77</td>\n",
       "    </tr>\n",
       "  </tbody>\n",
       "</table>\n",
       "</div>"
      ],
      "text/plain": [
       "   Total Players  Unique Items Average Price  Number of Purchases  \\\n",
       "0            576           179         $3.05                  780   \n",
       "\n",
       "  Total Revenue  \n",
       "0      $2379.77  "
      ]
     },
     "execution_count": 24,
     "metadata": {},
     "output_type": "execute_result"
    }
   ],
   "source": [
    "# total_players = purchase_data_df[\"SN\"].nunique()\n",
    "# unique_items = purchase_data_df[\"Item ID\"].nunique()\n",
    "# average_price = purchase_data_df[\"Price\"].mean()\n",
    "# number_of_purchases = purchase_data_df[\"Purchase ID\"].nunique()\n",
    "# total_revenue = purchase_data_df[\"Price\"].sum()\n",
    "summary_table = {\"Total Players\": [total_players], \n",
    "                 \"Unique Items\": [unique_items],\n",
    "                 \"Average Price\": [f\"${round(average_price, 2)}\"],\n",
    "                 \"Number of Purchases\": [number_of_purchases],\n",
    "                 \"Total Revenue\": [f\"${float(total_revenue)}\"]}\n",
    "summary_table_df = pd.DataFrame(summary_table)\n",
    "summary_table_df"
   ]
  },
  {
   "cell_type": "code",
   "execution_count": 32,
   "id": "62d7abd8",
   "metadata": {},
   "outputs": [
    {
     "data": {
      "text/plain": [
       "84.03"
      ]
     },
     "execution_count": 32,
     "metadata": {},
     "output_type": "execute_result"
    }
   ],
   "source": [
    "# Determining total number of male players\n",
    "male_df = purchase_data_df.loc[purchase_data_df[\"Gender\"] == \"Male\", :]\n",
    "male_players = male_df[\"SN\"].nunique()\n",
    "\n",
    "# Determining percentage of male players\n",
    "total_players = purchase_data_df[\"SN\"].nunique()\n",
    "percent_male = (male_players / total_players) * 100\n",
    "round(percent_male, 2)"
   ]
  },
  {
   "cell_type": "code",
   "execution_count": 34,
   "id": "2588d0bf",
   "metadata": {},
   "outputs": [
    {
     "data": {
      "text/plain": [
       "14.06"
      ]
     },
     "execution_count": 34,
     "metadata": {},
     "output_type": "execute_result"
    }
   ],
   "source": [
    "# Determining total number of female players\n",
    "female_df = purchase_data_df.loc[purchase_data_df[\"Gender\"] == \"Female\", :]\n",
    "female_players = female_df[\"SN\"].nunique()\n",
    "\n",
    "# Determining percentage of female players\n",
    "total_players = purchase_data_df[\"SN\"].nunique()\n",
    "percent_female = (female_players / total_players) * 100\n",
    "round(percent_female, 2)"
   ]
  },
  {
   "cell_type": "code",
   "execution_count": 35,
   "id": "a8f87399",
   "metadata": {},
   "outputs": [
    {
     "data": {
      "text/plain": [
       "1.91"
      ]
     },
     "execution_count": 35,
     "metadata": {},
     "output_type": "execute_result"
    }
   ],
   "source": [
    "# Determine Count of Other / Non-Disclosed\n",
    "other_players = total_players - (female_players + male_players)\n",
    "other_players\n",
    "\n",
    "# Determine percentage of Other / Non-Disclosed\n",
    "percent_other = (other_players / total_players * 100)\n",
    "round(percent_other, 2)"
   ]
  },
  {
   "cell_type": "code",
   "execution_count": 53,
   "id": "b4ebceb1",
   "metadata": {},
   "outputs": [],
   "source": [
    "# # Add summary data frame\n",
    "# gender_summary_table = {\"Total Count\": \"Row_1\", [male_players]\n",
    "#                        \"Percentage of Players\", [percent_male]} \n",
    "# #                  \"Unique Items\": [unique_items],\n",
    "# #                  \"Average Price\": [f\"${round(average_price, 2)}\"],\n",
    "# #                  \"Number of Purchases\": [number_of_purchases],\n",
    "# #                  \"Total Revenue\": [f\"${float(total_revenue)}\"]}\n",
    "# gender_summary_table_df = pd.DataFrame(gender_summary_table)\n",
    "# gender_summary_table_df.index = [\"Male\", \"Female\", \"Other / Non-Disclosed\"]\n",
    "# gender_summary_table_df"
   ]
  },
  {
   "cell_type": "code",
   "execution_count": 58,
   "id": "a5658708",
   "metadata": {},
   "outputs": [
    {
     "data": {
      "text/plain": [
       "652"
      ]
     },
     "execution_count": 58,
     "metadata": {},
     "output_type": "execute_result"
    }
   ],
   "source": [
    "male_sales = purchase_data_df.loc[purchase_data_df[\"Gender\"] == \"Male\", :]\n",
    "male_sales = len(male_sales)\n",
    "male_sales"
   ]
  },
  {
   "cell_type": "code",
   "execution_count": 59,
   "id": "8063a937",
   "metadata": {},
   "outputs": [
    {
     "data": {
      "text/plain": [
       "113"
      ]
     },
     "execution_count": 59,
     "metadata": {},
     "output_type": "execute_result"
    }
   ],
   "source": [
    "female_sales = purchase_data_df.loc[purchase_data_df[\"Gender\"] == \"Female\", :]\n",
    "female_sales = len(female_sales)\n",
    "female_sales"
   ]
  },
  {
   "cell_type": "code",
   "execution_count": 60,
   "id": "ff4ef804",
   "metadata": {},
   "outputs": [
    {
     "data": {
      "text/plain": [
       "15"
      ]
     },
     "execution_count": 60,
     "metadata": {},
     "output_type": "execute_result"
    }
   ],
   "source": [
    "other_sales = purchase_data_df.loc[purchase_data_df[\"Gender\"] == \"Other / Non-Disclosed\", :]\n",
    "other_sales = len(other_sales)\n",
    "other_sales"
   ]
  },
  {
   "cell_type": "code",
   "execution_count": 85,
   "id": "5c53c652",
   "metadata": {},
   "outputs": [
    {
     "name": "stdout",
     "output_type": "stream",
     "text": [
      "Price    3.02\n",
      "dtype: float64\n",
      "Price    1967.64\n",
      "dtype: float64\n"
     ]
    }
   ],
   "source": [
    "male_avg_price_df = purchase_data_df.loc[purchase_data_df[\"Gender\"] == \"Male\", [\"Price\"]]\n",
    "print(round(male_avg_price_df.mean(),2))\n",
    "print(round(male_avg_price_df.sum(),2))"
   ]
  },
  {
   "cell_type": "code",
   "execution_count": 86,
   "id": "9ed511db",
   "metadata": {},
   "outputs": [
    {
     "name": "stdout",
     "output_type": "stream",
     "text": [
      "Price    3.2\n",
      "dtype: float64\n",
      "Price    361.94\n",
      "dtype: float64\n"
     ]
    }
   ],
   "source": [
    "female_avg_price_df = purchase_data_df.loc[purchase_data_df[\"Gender\"] == \"Female\", [\"Price\"]]\n",
    "print(round(female_avg_price_df.mean(),2))\n",
    "print(round(female_avg_price_df.sum(),2))"
   ]
  },
  {
   "cell_type": "code",
   "execution_count": 90,
   "id": "ae77f651",
   "metadata": {},
   "outputs": [
    {
     "name": "stdout",
     "output_type": "stream",
     "text": [
      "Price    3.35\n",
      "dtype: float64\n",
      "Price    50.19\n",
      "dtype: float64\n"
     ]
    },
    {
     "data": {
      "text/plain": [
       "Price    0.066667\n",
       "dtype: float64"
      ]
     },
     "execution_count": 90,
     "metadata": {},
     "output_type": "execute_result"
    }
   ],
   "source": [
    "other_avg_price_df = purchase_data_df.loc[purchase_data_df[\"Gender\"] == \"Other / Non-Disclosed\", [\"Price\"]]\n",
    "print(round(other_avg_price_df.mean(),2))\n",
    "print(round(other_avg_price_df.sum(),2))\n",
    "other_average_purchase = other_avg_price_df.mean() / other_avg_price_df.sum() \n",
    "other_average_purchase"
   ]
  },
  {
   "cell_type": "code",
   "execution_count": 92,
   "id": "bd61b066",
   "metadata": {},
   "outputs": [
    {
     "name": "stdout",
     "output_type": "stream",
     "text": [
      "45\n",
      "7\n"
     ]
    }
   ],
   "source": [
    "print(purchase_data_df[\"Age\"].max())\n",
    "print(purchase_data_df[\"Age\"].min())"
   ]
  },
  {
   "cell_type": "code",
   "execution_count": 113,
   "id": "e83ba9fa",
   "metadata": {},
   "outputs": [
    {
     "data": {
      "text/plain": [
       "0    20-24\n",
       "1      40+\n",
       "2    20-24\n",
       "3    20-24\n",
       "4    20-24\n",
       "Name: Age, dtype: category\n",
       "Categories (8, object): ['<10' < '10-14' < '15-19' < '20-24' < '25-29' < '30-34' < '35-39' < '40+']"
      ]
     },
     "execution_count": 113,
     "metadata": {},
     "output_type": "execute_result"
    }
   ],
   "source": [
    "# Create bins for values\n",
    "bins = [0, 9.90, 14.90, 19.90, 24.90, 29.90, 34.90, 39.90, 99999]\n",
    "# Create labels for the bins\n",
    "group_labels = [\"<10\", \"10-14\", \"15-19\", \"20-24\", \"25-29\", \"30-34\", \"35-39\", \"40+\"]\n",
    "\n",
    "# Slice data and place into bins\n",
    "pd.cut(purchase_data_df[\"Age\"], bins, labels= group_labels).head()\n"
   ]
  },
  {
   "cell_type": "code",
   "execution_count": 123,
   "id": "11375891",
   "metadata": {},
   "outputs": [
    {
     "data": {
      "text/plain": [
       "0    20\n",
       "1    40\n",
       "2    24\n",
       "3    24\n",
       "4    23\n",
       "Name: Age, dtype: int64"
      ]
     },
     "execution_count": 123,
     "metadata": {},
     "output_type": "execute_result"
    }
   ],
   "source": [
    "# Place data series into a new column\n",
    "purchase_data_df[\"Age Group\"] = pd.cut(purchase_data_df[\"Age\"], bins, labels= group_labels)\n",
    "purchase_data_df[\"Age\"].head()\n",
    "\n"
   ]
  },
  {
   "cell_type": "code",
   "execution_count": 129,
   "id": "e6803bd8",
   "metadata": {
    "scrolled": true
   },
   "outputs": [
    {
     "name": "stdout",
     "output_type": "stream",
     "text": [
      "Age Group  Age\n",
      "<10        7       9\n",
      "           8       8\n",
      "           9       6\n",
      "10-14      10      9\n",
      "           11      7\n",
      "           12      6\n",
      "           13      4\n",
      "           14      2\n",
      "15-19      15     35\n",
      "           16     30\n",
      "           18     26\n",
      "           19     23\n",
      "           17     22\n",
      "20-24      20     99\n",
      "           22     70\n",
      "           23     67\n",
      "           24     67\n",
      "           21     62\n",
      "25-29      25     59\n",
      "           26     14\n",
      "           29     13\n",
      "           27     10\n",
      "           28      5\n",
      "30-34      30     35\n",
      "           33     14\n",
      "           34      9\n",
      "           32      8\n",
      "           31      7\n",
      "35-39      35     14\n",
      "           38      9\n",
      "           37      7\n",
      "           39      6\n",
      "           36      5\n",
      "40+        40      6\n",
      "           41      2\n",
      "           44      2\n",
      "           42      1\n",
      "           43      1\n",
      "           45      1\n",
      "Name: Age, dtype: int64\n"
     ]
    }
   ],
   "source": [
    "# Create GroupBy object based on Age Group\n",
    "age_group = purchase_data_df.groupby(\"Age Group\")\n",
    "\n",
    "# Find how numbers for Age Group\n",
    "print(age_group[\"Age\"].value_counts())"
   ]
  },
  {
   "cell_type": "code",
   "execution_count": 119,
   "id": "a786e820",
   "metadata": {},
   "outputs": [
    {
     "data": {
      "text/html": [
       "<div>\n",
       "<style scoped>\n",
       "    .dataframe tbody tr th:only-of-type {\n",
       "        vertical-align: middle;\n",
       "    }\n",
       "\n",
       "    .dataframe tbody tr th {\n",
       "        vertical-align: top;\n",
       "    }\n",
       "\n",
       "    .dataframe thead th {\n",
       "        text-align: right;\n",
       "    }\n",
       "</style>\n",
       "<table border=\"1\" class=\"dataframe\">\n",
       "  <thead>\n",
       "    <tr style=\"text-align: right;\">\n",
       "      <th></th>\n",
       "      <th>Age</th>\n",
       "    </tr>\n",
       "    <tr>\n",
       "      <th>Age Group</th>\n",
       "      <th></th>\n",
       "    </tr>\n",
       "  </thead>\n",
       "  <tbody>\n",
       "    <tr>\n",
       "      <th>&lt;10</th>\n",
       "      <td>7.869565</td>\n",
       "    </tr>\n",
       "    <tr>\n",
       "      <th>10-14</th>\n",
       "      <td>11.392857</td>\n",
       "    </tr>\n",
       "    <tr>\n",
       "      <th>15-19</th>\n",
       "      <td>16.794118</td>\n",
       "    </tr>\n",
       "    <tr>\n",
       "      <th>20-24</th>\n",
       "      <td>21.838356</td>\n",
       "    </tr>\n",
       "    <tr>\n",
       "      <th>25-29</th>\n",
       "      <td>26.000000</td>\n",
       "    </tr>\n",
       "    <tr>\n",
       "      <th>30-34</th>\n",
       "      <td>31.383562</td>\n",
       "    </tr>\n",
       "    <tr>\n",
       "      <th>35-39</th>\n",
       "      <td>36.707317</td>\n",
       "    </tr>\n",
       "    <tr>\n",
       "      <th>40+</th>\n",
       "      <td>41.538462</td>\n",
       "    </tr>\n",
       "  </tbody>\n",
       "</table>\n",
       "</div>"
      ],
      "text/plain": [
       "                 Age\n",
       "Age Group           \n",
       "<10         7.869565\n",
       "10-14      11.392857\n",
       "15-19      16.794118\n",
       "20-24      21.838356\n",
       "25-29      26.000000\n",
       "30-34      31.383562\n",
       "35-39      36.707317\n",
       "40+        41.538462"
      ]
     },
     "execution_count": 119,
     "metadata": {},
     "output_type": "execute_result"
    }
   ],
   "source": [
    "age_group[[\"Age\", \"SN\"]].mean()"
   ]
  },
  {
   "cell_type": "code",
   "execution_count": null,
   "id": "303c05e3",
   "metadata": {},
   "outputs": [],
   "source": []
  },
  {
   "cell_type": "code",
   "execution_count": null,
   "id": "e4631d0b",
   "metadata": {},
   "outputs": [],
   "source": []
  }
 ],
 "metadata": {
  "kernelspec": {
   "display_name": "Python 3",
   "language": "python",
   "name": "python3"
  },
  "language_info": {
   "codemirror_mode": {
    "name": "ipython",
    "version": 3
   },
   "file_extension": ".py",
   "mimetype": "text/x-python",
   "name": "python",
   "nbconvert_exporter": "python",
   "pygments_lexer": "ipython3",
   "version": "3.8.5"
  }
 },
 "nbformat": 4,
 "nbformat_minor": 5
}
